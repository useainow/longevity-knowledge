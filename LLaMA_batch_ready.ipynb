{
  "cells": [
    {
      "cell_type": "markdown",
      "metadata": {
        "id": "Yni0hljy3jQN"
      },
      "source": [
        "# 🧠 Обработка JSONL-файлов через LLaMA API"
      ]
    },
    {
      "cell_type": "code",
      "metadata": {
        "colab": {
          "base_uri": "https://localhost:8080/",
          "height": 92
        },
        "id": "U9p6KgkV3jQR",
        "outputId": "d5050ff9-c3e8-4724-d2e1-f181420d1667"
      },
      "execution_count": 16,
      "outputs": [
        {
          "output_type": "display_data",
          "data": {
            "text/plain": [
              "<IPython.core.display.HTML object>"
            ],
            "text/html": [
              "\n",
              "     <input type=\"file\" id=\"files-fcd7f7b8-dfc4-4bac-bde8-97506c3fa74a\" name=\"files[]\" multiple disabled\n",
              "        style=\"border:none\" />\n",
              "     <output id=\"result-fcd7f7b8-dfc4-4bac-bde8-97506c3fa74a\">\n",
              "      Upload widget is only available when the cell has been executed in the\n",
              "      current browser session. Please rerun this cell to enable.\n",
              "      </output>\n",
              "      <script>// Copyright 2017 Google LLC\n",
              "//\n",
              "// Licensed under the Apache License, Version 2.0 (the \"License\");\n",
              "// you may not use this file except in compliance with the License.\n",
              "// You may obtain a copy of the License at\n",
              "//\n",
              "//      http://www.apache.org/licenses/LICENSE-2.0\n",
              "//\n",
              "// Unless required by applicable law or agreed to in writing, software\n",
              "// distributed under the License is distributed on an \"AS IS\" BASIS,\n",
              "// WITHOUT WARRANTIES OR CONDITIONS OF ANY KIND, either express or implied.\n",
              "// See the License for the specific language governing permissions and\n",
              "// limitations under the License.\n",
              "\n",
              "/**\n",
              " * @fileoverview Helpers for google.colab Python module.\n",
              " */\n",
              "(function(scope) {\n",
              "function span(text, styleAttributes = {}) {\n",
              "  const element = document.createElement('span');\n",
              "  element.textContent = text;\n",
              "  for (const key of Object.keys(styleAttributes)) {\n",
              "    element.style[key] = styleAttributes[key];\n",
              "  }\n",
              "  return element;\n",
              "}\n",
              "\n",
              "// Max number of bytes which will be uploaded at a time.\n",
              "const MAX_PAYLOAD_SIZE = 100 * 1024;\n",
              "\n",
              "function _uploadFiles(inputId, outputId) {\n",
              "  const steps = uploadFilesStep(inputId, outputId);\n",
              "  const outputElement = document.getElementById(outputId);\n",
              "  // Cache steps on the outputElement to make it available for the next call\n",
              "  // to uploadFilesContinue from Python.\n",
              "  outputElement.steps = steps;\n",
              "\n",
              "  return _uploadFilesContinue(outputId);\n",
              "}\n",
              "\n",
              "// This is roughly an async generator (not supported in the browser yet),\n",
              "// where there are multiple asynchronous steps and the Python side is going\n",
              "// to poll for completion of each step.\n",
              "// This uses a Promise to block the python side on completion of each step,\n",
              "// then passes the result of the previous step as the input to the next step.\n",
              "function _uploadFilesContinue(outputId) {\n",
              "  const outputElement = document.getElementById(outputId);\n",
              "  const steps = outputElement.steps;\n",
              "\n",
              "  const next = steps.next(outputElement.lastPromiseValue);\n",
              "  return Promise.resolve(next.value.promise).then((value) => {\n",
              "    // Cache the last promise value to make it available to the next\n",
              "    // step of the generator.\n",
              "    outputElement.lastPromiseValue = value;\n",
              "    return next.value.response;\n",
              "  });\n",
              "}\n",
              "\n",
              "/**\n",
              " * Generator function which is called between each async step of the upload\n",
              " * process.\n",
              " * @param {string} inputId Element ID of the input file picker element.\n",
              " * @param {string} outputId Element ID of the output display.\n",
              " * @return {!Iterable<!Object>} Iterable of next steps.\n",
              " */\n",
              "function* uploadFilesStep(inputId, outputId) {\n",
              "  const inputElement = document.getElementById(inputId);\n",
              "  inputElement.disabled = false;\n",
              "\n",
              "  const outputElement = document.getElementById(outputId);\n",
              "  outputElement.innerHTML = '';\n",
              "\n",
              "  const pickedPromise = new Promise((resolve) => {\n",
              "    inputElement.addEventListener('change', (e) => {\n",
              "      resolve(e.target.files);\n",
              "    });\n",
              "  });\n",
              "\n",
              "  const cancel = document.createElement('button');\n",
              "  inputElement.parentElement.appendChild(cancel);\n",
              "  cancel.textContent = 'Cancel upload';\n",
              "  const cancelPromise = new Promise((resolve) => {\n",
              "    cancel.onclick = () => {\n",
              "      resolve(null);\n",
              "    };\n",
              "  });\n",
              "\n",
              "  // Wait for the user to pick the files.\n",
              "  const files = yield {\n",
              "    promise: Promise.race([pickedPromise, cancelPromise]),\n",
              "    response: {\n",
              "      action: 'starting',\n",
              "    }\n",
              "  };\n",
              "\n",
              "  cancel.remove();\n",
              "\n",
              "  // Disable the input element since further picks are not allowed.\n",
              "  inputElement.disabled = true;\n",
              "\n",
              "  if (!files) {\n",
              "    return {\n",
              "      response: {\n",
              "        action: 'complete',\n",
              "      }\n",
              "    };\n",
              "  }\n",
              "\n",
              "  for (const file of files) {\n",
              "    const li = document.createElement('li');\n",
              "    li.append(span(file.name, {fontWeight: 'bold'}));\n",
              "    li.append(span(\n",
              "        `(${file.type || 'n/a'}) - ${file.size} bytes, ` +\n",
              "        `last modified: ${\n",
              "            file.lastModifiedDate ? file.lastModifiedDate.toLocaleDateString() :\n",
              "                                    'n/a'} - `));\n",
              "    const percent = span('0% done');\n",
              "    li.appendChild(percent);\n",
              "\n",
              "    outputElement.appendChild(li);\n",
              "\n",
              "    const fileDataPromise = new Promise((resolve) => {\n",
              "      const reader = new FileReader();\n",
              "      reader.onload = (e) => {\n",
              "        resolve(e.target.result);\n",
              "      };\n",
              "      reader.readAsArrayBuffer(file);\n",
              "    });\n",
              "    // Wait for the data to be ready.\n",
              "    let fileData = yield {\n",
              "      promise: fileDataPromise,\n",
              "      response: {\n",
              "        action: 'continue',\n",
              "      }\n",
              "    };\n",
              "\n",
              "    // Use a chunked sending to avoid message size limits. See b/62115660.\n",
              "    let position = 0;\n",
              "    do {\n",
              "      const length = Math.min(fileData.byteLength - position, MAX_PAYLOAD_SIZE);\n",
              "      const chunk = new Uint8Array(fileData, position, length);\n",
              "      position += length;\n",
              "\n",
              "      const base64 = btoa(String.fromCharCode.apply(null, chunk));\n",
              "      yield {\n",
              "        response: {\n",
              "          action: 'append',\n",
              "          file: file.name,\n",
              "          data: base64,\n",
              "        },\n",
              "      };\n",
              "\n",
              "      let percentDone = fileData.byteLength === 0 ?\n",
              "          100 :\n",
              "          Math.round((position / fileData.byteLength) * 100);\n",
              "      percent.textContent = `${percentDone}% done`;\n",
              "\n",
              "    } while (position < fileData.byteLength);\n",
              "  }\n",
              "\n",
              "  // All done.\n",
              "  yield {\n",
              "    response: {\n",
              "      action: 'complete',\n",
              "    }\n",
              "  };\n",
              "}\n",
              "\n",
              "scope.google = scope.google || {};\n",
              "scope.google.colab = scope.google.colab || {};\n",
              "scope.google.colab._files = {\n",
              "  _uploadFiles,\n",
              "  _uploadFilesContinue,\n",
              "};\n",
              "})(self);\n",
              "</script> "
            ]
          },
          "metadata": {}
        },
        {
          "output_type": "stream",
          "name": "stdout",
          "text": [
            "Saving drive-download-20250722T115256Z-1-001.zip to drive-download-20250722T115256Z-1-001 (1).zip\n",
            "📦 Архив распакован\n"
          ]
        }
      ],
      "source": [
        "from google.colab import files\n",
        "import zipfile\n",
        "import os\n",
        "from pathlib import Path\n",
        "\n",
        "# Загрузка архива\n",
        "uploaded = files.upload()\n",
        "zip_path = list(uploaded.keys())[0]\n",
        "\n",
        "# Папка для распаковки\n",
        "extract_dir = \"content/unzipped\"\n",
        "Path(extract_dir).mkdir(parents=True, exist_ok=True)\n",
        "\n",
        "# Распаковка архива\n",
        "with zipfile.ZipFile(zip_path, \"r\") as zip_ref:\n",
        "    zip_ref.extractall(extract_dir)\n",
        "    print(\"📦 Архив распакован\")"
      ]
    },
    {
      "cell_type": "code",
      "metadata": {
        "colab": {
          "base_uri": "https://localhost:8080/"
        },
        "id": "OXHKaVeK3jQT",
        "outputId": "1c7043f3-36ed-4856-87c3-2a5ce447a6ff"
      },
      "execution_count": 17,
      "outputs": [
        {
          "output_type": "stream",
          "name": "stdout",
          "text": [
            "Загружено текстов: 500\n"
          ]
        }
      ],
      "source": [
        "from pathlib import Path\n",
        "import json\n",
        "\n",
        "texts = []\n",
        "\n",
        "# Ищем все jsonl-файлы и загружаем тексты\n",
        "for file in Path(extract_dir).glob(\"*.jsonl\"):\n",
        "    with open(file, encoding=\"utf-8\") as f:\n",
        "        for line in f:\n",
        "            try:\n",
        "                obj = json.loads(line)\n",
        "                if \"text\" in obj:\n",
        "                    texts.append(obj[\"text\"])\n",
        "                elif \"abstract\" in obj:\n",
        "                    texts.append(obj[\"abstract\"])\n",
        "            except:\n",
        "                pass\n",
        "\n",
        "print(f\"Загружено текстов: {len(texts)}\")"
      ]
    },
    {
      "cell_type": "code",
      "metadata": {
        "colab": {
          "base_uri": "https://localhost:8080/"
        },
        "id": "qIKuVfWt3jQU",
        "outputId": "1cce6178-ceda-487d-e397-5e56e1311cf8"
      },
      "execution_count": 21,
      "outputs": [
        {
          "output_type": "stream",
          "name": "stdout",
          "text": [
            "**Факты-основания:**\n",
            "- SCFAs (короткоцепочечные жирные кислоты) производятся кишечными микроорганизмами в процессе ферментации неперевариваемых углеводов.\n",
            "- SCFAs, такие как ацетат, пропионат и бутират, играют ключевую роль в поддержании здоровья кишечника и влияют на различные физиологические процессы, включая метаболизм, иммунный ответ и функцию мозга.\n",
            "- Нарушения баланса кишечной микробиоты связаны с когнитивным снижением и старением.\n",
            "\n",
            "**Формулировка гипотезы:**\n",
            "SCFAs, производимые кишечной микробиотой, могут замедлить когнитивное старение, модулируя воспаление, окислительный стресс и эпигенетические изменения в мозге, что в конечном итоге приводит к улучшению когнитивных функций у пожилых людей.\n",
            "\n",
            "**План тестирования:**\n",
            "1. **Эксперименты in vitro:** Исследовать влияние SCFAs на воспаление и окислительный стресс в клетках мозга.\n",
            "2. **Исследования на животных моделях:** Провести эксперименты на старых мышах, чтобы оценить эффекты диеты, обогащенной SCFAs, на когнитивные функции и изменения в мозге.\n",
            "3. **Клинические исследования:** Провести рандомизированное контролируемое исследование, чтобы оценить влияние добавок, содержащих SCFAs, или диеты, богатой продуктами, способствующими производству SCFAs, на когнитивные функции у пожилых людей.\n",
            "\n",
            "**Возможные риски:**\n",
            "- Индивидуальные различия в кишечной микробиоте и метаболизме SCFAs могут повлиять на эффективность терапии.\n",
            "- Необходимо тщательно контролировать дозировку и состав SCFAs, чтобы избежать потенциальных побочных эффектов.\n",
            "\n",
            "Вывод: Гипотеза предполагает, что SCFAs\n"
          ]
        }
      ],
      "source": [
        "import requests\n",
        "import json\n",
        "import time\n",
        "\n",
        "# Настройки подключения\n",
        "API_URL = \"http://80.209.242.40:8000/v1/chat/completions\"\n",
        "HEADERS = {\"Content-Type\": \"application/json\"}\n",
        "\n",
        "# System prompt\n",
        "system_prompt = '''\n",
        "Ты — мультиагентная LLM-система нового поколения, участвующая в научно-инженерном хакатоне AI x Longevity.\n",
        "\n",
        "Твоя задача — действовать как один агент с несколькими режимами. Каждый режим отвечает за определённый тип задачи.\n",
        "Ты автоматически определяешь нужный режим по содержанию сообщения, если пользователь явно не указал его.\n",
        "Внешние инструменты: PubMed API, Neo4j, FAISS и т.п.\n",
        "\n",
        "Если пользователь:\n",
        "- задаёт вопрос о механизме или концепции — активируй режим /объяснение;\n",
        "- предлагает гипотезу или просит придумать её — активируй /гипотеза;\n",
        "- даёт список задач и просит выбрать — активируй /приоритизация;\n",
        "- просит извлечь данные из текста — активируй /извлечение;\n",
        "- просит связать гены, белки, болезни — активируй /граф;\n",
        "- просит резюме за день — активируй /daily-report.\n",
        "\n",
        "Если информации недостаточно — кратко запроси уточнение. Не придумывай критичные элементы сам.\n",
        "\n",
        "Избегай вступлений и воды. Пиши строго по делу. Не используй фразы вроде «как ИИ...». Переходи сразу к выполнению задачи.\n",
        "\n",
        "Обращайся к пользователю как к исследователю или инженеру. Тон — деловой, чёткий, научный.\n",
        "\n",
        "# Доступные режимы:\n",
        "\n",
        "1. /извлечение — извлечение сущностей, гипотез, связей, классификация, достоверность.\n",
        "2. /приоритизация — ранжирование задач или гипотез по новизне, зрелости, влиянию, доказанности.\n",
        "3. /объяснение — объяснение, почему задача или тема приоритетна, с логической цепочкой.\n",
        "4. /граф — построение словесного графа знаний (гены, белки, вмешательства, механизмы).\n",
        "5. /гипотеза — генерация научной гипотезы и плана проверки.\n",
        "6. /daily-report — краткий отчёт по приоритетной задаче дня.\n",
        "\n",
        "# Форматируй ответы так:\n",
        "- Структурируй ответ по пунктам.\n",
        "- Пиши краткими абзацами, без лишней воды.\n",
        "- В конце ответа укажи краткий вывод: «Вывод: ...»\n",
        "- При наличии источников — укажи их (реальные или помеченные как гипотетические).\n",
        "\n",
        "# Пример вызова режима:\n",
        "\n",
        "/гипотеза\n",
        "Сгенерируй научную гипотезу по FOXO3. Приведи:\n",
        "- факты-основания;\n",
        "- формулировку;\n",
        "- план тестирования;\n",
        "- возможные риски.\n",
        "\n",
        "# Дополнительно:\n",
        "\n",
        "- Если пользователь говорит не по теме — мягко переформулируй или предложи режим.\n",
        "- Не повторяй инструкции в ответах.\n",
        "- Всегда придерживайся контекста: биология старения, клеточные и молекулярные механизмы, гены, интервенции, эпигенетика, preclinical и клинические исследования.\n",
        "\"\"\"\n",
        "'''\n",
        "\n",
        "# Пример вызова\n",
        "data = {\n",
        "    \"model\": \"meta-llama/Llama-3-8b-instruct\",  # Укажи нужную модель, если другая\n",
        "    \"messages\": [\n",
        "        {\"role\": \"system\", \"content\": system_prompt},\n",
        "        {\"role\": \"user\", \"content\": \"/гипотеза\\nСгенерируй гипотезу по роли SCFAs в когнитивном старении\"}\n",
        "    ]\n",
        "}\n",
        "\n",
        "# Отправка запроса\n",
        "response = requests.post(API_URL, headers=HEADERS, data=json.dumps(data))\n",
        "\n",
        "# Обработка ответа\n",
        "output = response.json()[\"choices\"][0][\"message\"][\"content\"]\n",
        "print(output)"
      ]
    },
    {
      "cell_type": "code",
      "metadata": {
        "id": "ZTlWPOSY3jQV"
      },
      "execution_count": 33,
      "outputs": [],
      "source": [
        "import pandas as pd\n",
        "\n",
        "# Загружаем входной CSV (замени имя файла при необходимости)\n",
        "df = pd.read_csv(\"llama_input.csv\")  # если файл называется иначе — замени название\n",
        "texts = df[\"input\"].tolist()\n",
        "\n",
        "results = []"
      ]
    },
    {
      "cell_type": "code",
      "source": [
        "import csv\n",
        "\n",
        "prompts = [\n",
        "    \"/гипотеза Сгенерируй гипотезу по роли FOXO3 в старении\",\n",
        "    \"/объяснение Почему митохондриальные мутации ускоряют старение?\",\n",
        "    \"/приоритизация Отсортируй задачи: омоложение кожи, восстановление мышц, удаление сенесцентных клеток\"\n",
        "]\n",
        "\n",
        "with open(\"llama_input.csv\", \"w\", encoding=\"utf-8\", newline=\"\") as f:\n",
        "    writer = csv.writer(f)\n",
        "    writer.writerow([\"input\"])\n",
        "    for prompt in prompts:\n",
        "        writer.writerow([prompt])"
      ],
      "metadata": {
        "id": "cXsEDYplOZsC"
      },
      "execution_count": 37,
      "outputs": []
    },
    {
      "cell_type": "code",
      "metadata": {
        "id": "M6qteXND3jQX"
      },
      "execution_count": 38,
      "outputs": [],
      "source": [
        "for text in texts:\n",
        "    data = {\n",
        "        \"model\": \"meta-llama/Llama-3-8b-instruct\",\n",
        "        \"messages\": [\n",
        "            {\"role\": \"system\", \"content\": system_prompt},\n",
        "            {\"role\": \"user\", \"content\": text}\n",
        "        ]\n",
        "    }\n",
        "\n",
        "    try:\n",
        "        response = requests.post(API_URL, headers=HEADERS, data=json.dumps(data))\n",
        "        output = response.json()[\"choices\"][0][\"message\"][\"content\"]\n",
        "    except Exception as e:\n",
        "        output = f\"Ошибка: {str(e)}\"\n",
        "\n",
        "    results.append({\"input\": text, \"output\": output})\n",
        "    time.sleep(1)  # Пауза между запросами, чтобы не перегрузить сервер"
      ]
    },
    {
      "cell_type": "code",
      "source": [
        "df = pd.read_csv(\"llama_input.csv\")\n",
        "texts = df[\"input\"].tolist()\n",
        "\n",
        "results = []"
      ],
      "metadata": {
        "id": "w2CfKawFQPlo"
      },
      "execution_count": 40,
      "outputs": []
    },
    {
      "cell_type": "code",
      "source": [
        "for text in texts:\n",
        "    data = {\n",
        "        \"model\": \"meta-llama/Llama-3-8b-instruct\",\n",
        "        \"messages\": [\n",
        "            {\"role\": \"system\", \"content\": system_prompt},\n",
        "            {\"role\": \"user\", \"content\": text}\n",
        "        ]\n",
        "    }\n",
        "\n",
        "    try:\n",
        "        response = requests.post(API_URL, headers=HEADERS, data=json.dumps(data))\n",
        "        output = response.json()[\"choices\"][0][\"message\"][\"content\"]\n",
        "    except Exception as e:\n",
        "        output = f\"Ошибка: {str(e)}\"\n",
        "\n",
        "    results.append({\"input\": text, \"output\": output})\n",
        "    time.sleep(1)  # Пауза между запросами, чтобы не перегрузить сервер"
      ],
      "metadata": {
        "id": "AiS_OARoQRfm"
      },
      "execution_count": 41,
      "outputs": []
    },
    {
      "cell_type": "code",
      "source": [
        "import csv\n",
        "\n",
        "with open(\"llama_output.csv\", \"w\", encoding=\"utf-8\", newline=\"\") as f:\n",
        "    writer = csv.DictWriter(f, fieldnames=[\"input\", \"output\"])\n",
        "    writer.writeheader()\n",
        "    writer.writerows(results)"
      ],
      "metadata": {
        "id": "skloTr6MQ65F"
      },
      "execution_count": 42,
      "outputs": []
    },
    {
      "cell_type": "code",
      "source": [
        "from google.colab import files\n",
        "files.download(\"llama_output.csv\")"
      ],
      "metadata": {
        "colab": {
          "base_uri": "https://localhost:8080/",
          "height": 17
        },
        "id": "egFMQX7CRGBH",
        "outputId": "a75086e0-f8a7-43cd-f53f-06fb101ec04c"
      },
      "execution_count": 43,
      "outputs": [
        {
          "output_type": "display_data",
          "data": {
            "text/plain": [
              "<IPython.core.display.Javascript object>"
            ],
            "application/javascript": [
              "\n",
              "    async function download(id, filename, size) {\n",
              "      if (!google.colab.kernel.accessAllowed) {\n",
              "        return;\n",
              "      }\n",
              "      const div = document.createElement('div');\n",
              "      const label = document.createElement('label');\n",
              "      label.textContent = `Downloading \"${filename}\": `;\n",
              "      div.appendChild(label);\n",
              "      const progress = document.createElement('progress');\n",
              "      progress.max = size;\n",
              "      div.appendChild(progress);\n",
              "      document.body.appendChild(div);\n",
              "\n",
              "      const buffers = [];\n",
              "      let downloaded = 0;\n",
              "\n",
              "      const channel = await google.colab.kernel.comms.open(id);\n",
              "      // Send a message to notify the kernel that we're ready.\n",
              "      channel.send({})\n",
              "\n",
              "      for await (const message of channel.messages) {\n",
              "        // Send a message to notify the kernel that we're ready.\n",
              "        channel.send({})\n",
              "        if (message.buffers) {\n",
              "          for (const buffer of message.buffers) {\n",
              "            buffers.push(buffer);\n",
              "            downloaded += buffer.byteLength;\n",
              "            progress.value = downloaded;\n",
              "          }\n",
              "        }\n",
              "      }\n",
              "      const blob = new Blob(buffers, {type: 'application/binary'});\n",
              "      const a = document.createElement('a');\n",
              "      a.href = window.URL.createObjectURL(blob);\n",
              "      a.download = filename;\n",
              "      div.appendChild(a);\n",
              "      a.click();\n",
              "      div.remove();\n",
              "    }\n",
              "  "
            ]
          },
          "metadata": {}
        },
        {
          "output_type": "display_data",
          "data": {
            "text/plain": [
              "<IPython.core.display.Javascript object>"
            ],
            "application/javascript": [
              "download(\"download_40f801aa-9f3c-4b6a-b31c-fb6d08698a67\", \"llama_output.csv\", 8010)"
            ]
          },
          "metadata": {}
        }
      ]
    }
  ],
  "metadata": {
    "colab": {
      "provenance": []
    },
    "kernelspec": {
      "display_name": "Python 3",
      "name": "python3"
    },
    "language_info": {
      "name": "python"
    }
  },
  "nbformat": 4,
  "nbformat_minor": 0
}